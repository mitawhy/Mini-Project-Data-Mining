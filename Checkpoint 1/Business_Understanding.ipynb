{
  "nbformat": 4,
  "nbformat_minor": 0,
  "metadata": {
    "colab": {
      "provenance": [],
      "authorship_tag": "ABX9TyMNDiDb0HgwG3QZtKtv0Tvq",
      "include_colab_link": true
    },
    "kernelspec": {
      "name": "python3",
      "display_name": "Python 3"
    },
    "language_info": {
      "name": "python"
    }
  },
  "cells": [
    {
      "cell_type": "markdown",
      "metadata": {
        "id": "view-in-github",
        "colab_type": "text"
      },
      "source": [
        "<a href=\"https://colab.research.google.com/github/mitawhy/Mini-Project-Data-Mining/blob/main/Business_Understanding.ipynb\" target=\"_parent\"><img src=\"https://colab.research.google.com/assets/colab-badge.svg\" alt=\"Open In Colab\"/></a>"
      ]
    },
    {
      "cell_type": "markdown",
      "source": [
        "# Memprediksi Keberhasilan Startup dari Crunchbase"
      ],
      "metadata": {
        "id": "3PFeDSmL_t3_"
      }
    },
    {
      "cell_type": "markdown",
      "source": [
        "### Business Understanding"
      ],
      "metadata": {
        "id": "7eDKI8WT__1d"
      }
    },
    {
      "cell_type": "markdown",
      "source": [
        "####*Business Objective*\n",
        "#####Tujuan bisnis dari dataset ini adalah untuk memprediksi keberhasilan dari beberapa startup yang saat ini tengah beroperasi. Apakah startup-startup tersebut akan berubah menjadi sukses atau justru gagal. Dengan adanya dataset ini, dapat membantu para investor untuk mengidentifikasi startup dengan potensi tinggi dan menghindari usaha berisiko. Dengan itu, investor dapat membuat keputusan investasi yang tepat. Dataset yang ada juga dapat memberikan informasi kepada startup terkait agar dapat melakukan evaluasi. Selain itu, dataset ini juga dapat menentukan startup di bidang apa yang akan mencapai kesuksesan besar.\n",
        "\n",
        "####*Assess Situation*\n",
        "#####Situasi bisnis yang mendasari analisis ini adalah tingkat risiko kegagalan yang cukup tinggi pada startup. Dengan ketersediaan data yang cukup, dapat membantu para pendiri startup untuk memahami dan menganalisis faktor-faktor apa saja yang dapat memberikan kegagalan untuk startup nya dan dapat menghindari hal tersebut.\n",
        "\n",
        "####*Data Mining Goals*\n",
        "#####Tujuan dari Data Mining pada dataset ini adalah untuk memprediksi keberhasilan dari beberapa startup yang saat ini sedang berjalan/beroperasi. Data mining digunakan untuk menganalisis, mengidentifikasi, dan menentukan karakteristik yang membedakan antara startup yang sukses dan yang gagal. Masalah ini akan diselesaikan melalui pendekatan Supervised Machine Learning dengan melatih model berdasarkan sejarah startup yang diakuisisi atau ditutup.\n",
        "\n",
        "####*Project Plan*\n",
        "#####Rencana proyek untuk menganalisis dataset ini dimulai dengan mengumpulkan data-data yang relevan terkait startup, seperti data keuangan dan lainnya dari sumber yang telah tersedia. Lalu dilakukan pemahaman yang mendalam terkait dataset yang ada. Selanjutnya, dilakukan pemeriksaan, pembersihan, dan persiapan data untuk di analisis. Kemudian menentukan tools apa saja yang akan digunakan. Nantinya, hasil dari data mining pada dataset ini akan digunakan oleh orang-orang terkait yang membutuhkan data tersebut sebagai bahan pertimbangan untuk bisnisnya."
      ],
      "metadata": {
        "id": "b2Al8Sr_AntO"
      }
    }
  ]
}
